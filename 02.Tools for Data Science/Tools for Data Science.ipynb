{
  "nbformat": 4,
  "nbformat_minor": 0,
  "metadata": {
    "colab": {
      "provenance": [],
      "authorship_tag": "ABX9TyNbaHJt0CCQX/MNPglZ99Tp",
      "include_colab_link": true
    },
    "kernelspec": {
      "name": "python3",
      "display_name": "Python 3"
    },
    "language_info": {
      "name": "python"
    }
  },
  "cells": [
    {
      "cell_type": "markdown",
      "metadata": {
        "id": "view-in-github",
        "colab_type": "text"
      },
      "source": [
        "<a href=\"https://colab.research.google.com/github/BananaJuise/IBM-Data-Science-Professional-Certificate/blob/main/02.Tools%20for%20Data%20Science/Tools%20for%20Data%20Science.ipynb\" target=\"_parent\"><img src=\"https://colab.research.google.com/assets/colab-badge.svg\" alt=\"Open In Colab\"/></a>"
      ]
    },
    {
      "cell_type": "markdown",
      "source": [
        "# [Tools for Data Science](https://www.coursera.org/learn/open-source-tools-for-data-science?specialization=ibm-data-science)\n"
      ],
      "metadata": {
        "id": "6gwV2NUlcwUd"
      }
    },
    {
      "cell_type": "markdown",
      "source": [
        "\n",
        "\n",
        "---\n",
        "\n"
      ],
      "metadata": {
        "id": "uevt77jIFzSB"
      }
    },
    {
      "cell_type": "markdown",
      "source": [
        "## Summary\n",
        "\n",
        "\n",
        "---\n",
        "\n",
        "> This is the second course of this [Profissional certificate](https://www.coursera.org/professional-certificates/ibm-data-science),tought by [Aije Egwaikhide](https://www.linkedin.com/in/aije-egwaikhide/),[Romeo Kienzler](romeo-kienzler-089b4557) and [Svetlana Levitan](https://www.linkedin.com/in/svetlanalevitan).\n",
        ">\n",
        ">In this course, the Data Scientist’s tool kit was Described which includes: Libraries & Packages, Data sets, Machine learning models, and Big Data tools  , and How to utilize languages commonly used by data scientists like Python, R, and SQL   \n",
        ">\n",
        ">working knowledge of tools such as Jupyter notebooks and RStudio was Demonstrated and How to utilize their various features     \n",
        ">\n",
        ">as well as Creating and managing source code for data science using Git repositories and GitHub.   \n",
        ">\n",
        ">\n",
        ">\n",
        "\n",
        "\n",
        "\n",
        "\n",
        "\n",
        "\n",
        "\n",
        "\n",
        "\n"
      ],
      "metadata": {
        "id": "dBBMPG3odSih"
      }
    },
    {
      "cell_type": "markdown",
      "source": [
        "## Main Topics and Learning Objectives\n",
        "---\n",
        "\n"
      ],
      "metadata": {
        "id": "s5KIW_EJOiyK"
      }
    },
    {
      "cell_type": "markdown",
      "source": [
        "\n",
        "\n",
        "### **Module: Overview of Data Science Tools**\n",
        "\n"
      ],
      "metadata": {
        "id": "A5Qk71cnRPZT"
      }
    },
    {
      "cell_type": "markdown",
      "source": [
        " #### Obectives\n",
        "> - Describe the components of a Data Scientist's toolkit and list various tool categories.\n",
        ">\n",
        "> - List examples of open-source tools used in data science.\n",
        ">\n",
        "> - Describe the relevant features of open-source tools.\n",
        ">\n",
        ">- List examples of commercial and cloud-based data science tools.\n",
        ">\n",
        "\n",
        "\n"
      ],
      "metadata": {
        "id": "v2FCj3opSwam"
      }
    },
    {
      "cell_type": "markdown",
      "source": [
        "\n",
        "\n",
        "### **Module:   Languages of Data Science**\n",
        "\n",
        "\n",
        "\n"
      ],
      "metadata": {
        "id": "QHKv-cL4P3ev"
      }
    },
    {
      "cell_type": "markdown",
      "source": [
        "#### Obectives\n",
        ">- Identify the criteria and roles for determining the language to learn.\n",
        ">- Identify the users and benefits of Python.\n",
        ">- Identify the users and benefits of R language.\n",
        ">- Define SQL elements and list its benefits.\n",
        ">- Review languages such as Java, Scala, C++, JavaScript, and Julia.\n",
        ">- List the global communities for connecting with other users.\n"
      ],
      "metadata": {
        "id": "BHdkW1aBSs3w"
      }
    },
    {
      "cell_type": "markdown",
      "source": [
        "### **Packages, APIs, Datasets and Models**\n",
        "\n",
        "\n",
        "\n"
      ],
      "metadata": {
        "id": "orKMd6R5NjZ3"
      }
    },
    {
      "cell_type": "markdown",
      "source": [
        "#### Obectives\n",
        ">- List the tasks that a data scientist needs to perform to build a model​.\n",
        ">- List the various libraries: scientific, visualization, machine learning, and deep learning.\n",
        ">- Define REST API in relation to request and response.\n",
        ">- Describe data sets and sources of data.\n",
        ">- Explore open data sets on the Data Asset eXchange.\n",
        ">- Describe how to use a learning model to solve a problem.\n",
        ">- Navigate the Model Asset eXchange from IBM Research."
      ],
      "metadata": {
        "id": "y0xM1PtZSpWy"
      }
    },
    {
      "cell_type": "markdown",
      "source": [
        "### **Jupyter Notebooks and JupyterLab**\n",
        "\n",
        "\n",
        "\n"
      ],
      "metadata": {
        "id": "fXL8LZidJ_gv"
      }
    },
    {
      "cell_type": "markdown",
      "source": [
        "#### Obectives\n",
        ">- List the tasks that a data scientist needs to perform to build a model​.\n",
        ">- List the various libraries: scientific, visualization, machine learning, and deep learning.\n",
        ">- Define REST API in relation to request and response.\n",
        ">- Describe data sets and sources of data.\n",
        ">- Explore open data sets on the Data Asset eXchange.\n",
        ">- Describe how to use a learning model to solve a problem.\n",
        ">- Navigate the Model Asset eXchange from IBM Research."
      ],
      "metadata": {
        "id": "YzysJRJ7J_gw"
      }
    },
    {
      "cell_type": "markdown",
      "source": [
        "### **RStudio & GitHub**\n",
        "\n",
        "\n",
        "\n"
      ],
      "metadata": {
        "id": "b55LY8Y7KA6p"
      }
    },
    {
      "cell_type": "markdown",
      "source": [
        "#### Obectives\n",
        ">- Describe R capabilities and RStudio environment.\n",
        ">- Use the inbuilt R plot function.\n",
        ">-Explain version control and describe the Git and GitHub environment.\n",
        ">- Describe the purpose of source repositories and explain how GitHub satisfies the needs of a source repository.\n",
        ">- Explain how to sign up for a GitHub account and describe how to create a repository.\n",
        ">- Demonstrate how to edit and upload files in GitHub.\n",
        ">- Explain the purpose of branches and describe how to merge changes into branches."
      ],
      "metadata": {
        "id": "3NLkSm8rKA6q"
      }
    },
    {
      "cell_type": "markdown",
      "source": [
        "### **Create and Share your Jupyter Notebook**\n",
        "\n",
        "\n",
        "\n"
      ],
      "metadata": {
        "id": "1TjqLyYlKB4D"
      }
    },
    {
      "cell_type": "markdown",
      "source": [
        "#### Obectives\n",
        ">- Create a Jupyter Notebook with markdown and code cells\n",
        ">-List examples of languages, libraries and tools used in Data Science\n",
        ">- Share your Jupyter Notebook publicly on GitHub\n",
        ">- Evaluate notebooks submitted by your peers using the provided rubric\n",
        ">- Demonstrate proficiency in Data Science toolkit knowledge"
      ],
      "metadata": {
        "id": "wLOmrwFqKB4D"
      }
    },
    {
      "cell_type": "markdown",
      "source": [
        "### **IBM Watson Studio**\n",
        "\n",
        "\n",
        "\n",
        "\n",
        "\n"
      ],
      "metadata": {
        "id": "IEG6wqypKDWK"
      }
    },
    {
      "cell_type": "markdown",
      "source": [
        "#### Obectives\n",
        ">- Find common resources in Watson Studio and IBM Cloud Pak for Data.\n",
        ">-Create an IBM Cloud account, service, and project in Watson Studio.\n",
        ">- Create and share a Jupyter Notebook.\n",
        ">- Use different types of Jupyter Notebook templates and kernel.\n",
        ">- Describe how to connect a Watson Studio account and publish a notebook in GitHub."
      ],
      "metadata": {
        "id": "hlItWCcfKDWL"
      }
    },
    {
      "cell_type": "markdown",
      "source": [
        "## Key Skills\n",
        "---\n",
        "\n"
      ],
      "metadata": {
        "id": "GN9ImoMNTzJA"
      }
    },
    {
      "cell_type": "markdown",
      "source": [
        "###`Commercial Data Integration Tools` `Data Integration and Transformation Tools` `Data Management Tools` `Data Science Tools` `Data Visualization Tools` `GitHub` `Jupyter Notebook` `Model Building Tools` `Model Monitoring Tools` `Open-source Tools` `Data Science` `Methodology` `Deep Learning` `Machine Learning` `Python Programming` `Big Data` `Data Mining` `Rstudio` `SQL`"
      ],
      "metadata": {
        "id": "fUO5xL_XFXf1"
      }
    },
    {
      "cell_type": "markdown",
      "source": [
        "## Certification\n",
        "---\n",
        "\n",
        "\n",
        "\n",
        "\n",
        "\n",
        "\n",
        "\n"
      ],
      "metadata": {
        "id": "s4b754h8WNwe"
      }
    },
    {
      "cell_type": "markdown",
      "source": [
        "click on the elements To variefy it\n",
        ">\n",
        "><p align=\"middle\">\n",
        "<a  href=\"https://www.coursera.org/account/accomplishments/certificate/MGCKVYKU4QCC\"><img src=\"https://live.staticflickr.com/65535/53217100706_80f63efc2a_b.jpg\" height=\"225\"/></a><a href=\"https://www.credly.com/badges/190a326c-bab7-470b-be32-d1f1a779e999/public_url\"><img src=\"https://drive.google.com/uc?id=1OU0vmm6W2GV1OXK8g-wl9BlejDIn-syM\" height=\"225\"></a>\n",
        "    </p>\n"
      ],
      "metadata": {
        "id": "lv2iw9aVFQRn"
      }
    }
  ]
}