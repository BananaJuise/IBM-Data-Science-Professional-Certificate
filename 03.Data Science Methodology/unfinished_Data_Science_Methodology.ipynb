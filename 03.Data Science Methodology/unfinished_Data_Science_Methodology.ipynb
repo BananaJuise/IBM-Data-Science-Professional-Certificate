{
  "nbformat": 4,
  "nbformat_minor": 0,
  "metadata": {
    "colab": {
      "provenance": [],
      "authorship_tag": "ABX9TyMoyveKxBtV32d2ByQkXcxZ",
      "include_colab_link": true
    },
    "kernelspec": {
      "name": "python3",
      "display_name": "Python 3"
    },
    "language_info": {
      "name": "python"
    }
  },
  "cells": [
    {
      "cell_type": "markdown",
      "metadata": {
        "id": "view-in-github",
        "colab_type": "text"
      },
      "source": [
        "<a href=\"https://colab.research.google.com/github/BananaJuise/IBM-Data-Science-Professional-Certificate/blob/main/03.Data%20Science%20Methodology/unfinished_Data_Science_Methodology.ipynb\" target=\"_parent\"><img src=\"https://colab.research.google.com/assets/colab-badge.svg\" alt=\"Open In Colab\"/></a>"
      ]
    },
    {
      "cell_type": "markdown",
      "source": [
        "# [Data Science Methodology](https://www.coursera.org/learn/data-science-methodology)\n"
      ],
      "metadata": {
        "id": "6gwV2NUlcwUd"
      }
    },
    {
      "cell_type": "markdown",
      "source": [
        "\n",
        "\n",
        "---\n",
        "\n"
      ],
      "metadata": {
        "id": "uevt77jIFzSB"
      }
    },
    {
      "cell_type": "markdown",
      "source": [
        "## Summary\n",
        "\n",
        "\n",
        "---\n",
        "\n",
        "> This is the second course of this [Profissional certificate](https://www.coursera.org/professional-certificates/ibm-data-science), tought by [Aije Egwaikhide](https://www.linkedin.com/in/aije-egwaikhide/),[Romeo Kienzler](romeo-kienzler-089b4557) and [Svetlana Levitan](https://www.linkedin.com/in/svetlanalevitan).\n",
        ">\n",
        ">...\n",
        ">\n",
        ">\n",
        ">\n",
        "\n",
        "\n",
        "\n",
        "\n",
        "\n",
        "\n",
        "\n",
        "\n",
        "\n"
      ],
      "metadata": {
        "id": "dBBMPG3odSih"
      }
    },
    {
      "cell_type": "markdown",
      "source": [
        "## Main Topics and Learning Objectives\n",
        "---\n",
        "\n"
      ],
      "metadata": {
        "id": "s5KIW_EJOiyK"
      }
    },
    {
      "cell_type": "markdown",
      "source": [
        "\n",
        "\n",
        "### **From Problem to Approach and From Requirements to Collection**\n",
        "\n"
      ],
      "metadata": {
        "id": "A5Qk71cnRPZT"
      }
    },
    {
      "cell_type": "markdown",
      "source": [
        " #### Obectives\n",
        "\n",
        ">- List the six key stages of the Cross-Industry Process for Data Mining Methodology (CRISP-DM), an industry-standard data science methodology.\n",
        ">- Analyze the first four phases of CRISP-DM.\n",
        ">- Apply the first four phases of the data science methodology to a case study.\n",
        ">- Compose clearly defined questions that address a business problem.\n",
        ">- Analyze a case study to determine data requirements.\n",
        ">- Apply the data science methodology to a case study.\n",
        ">- Determine data content, data formats, and data sources prior to data collection and data preparation phases.\n",
        ">- Create a decision tree to classify outcomes in a case study.\n",
        ">- Identify appropriate data sources to address a business problem.\n",
        "\n",
        "\n"
      ],
      "metadata": {
        "id": "v2FCj3opSwam"
      }
    },
    {
      "cell_type": "markdown",
      "source": [
        "\n",
        "\n",
        "### **From Understanding to Preparation and From Modeling to Evaluation**\n",
        "\n",
        "\n",
        "\n"
      ],
      "metadata": {
        "id": "QHKv-cL4P3ev"
      }
    },
    {
      "cell_type": "markdown",
      "source": [
        "#### Obectives\n",
        ">- Prepare a data set by handling missing, invalid, or misleading data.\n",
        ">- Describe the purpose and characteristics of the data modeling process.\n",
        ">- Evaluate a decision tree model using a training and a test dataset.\n",
        ">- Build a decision to tree to determine the cuisine type for a data set of recipes.\n",
        ">- Summarize the processes of understanding data preparing data, modeling, and evaluation phases of the data science methodology.\n"
      ],
      "metadata": {
        "id": "BHdkW1aBSs3w"
      }
    },
    {
      "cell_type": "markdown",
      "source": [
        "### **From Deployment to Feedback**\n",
        "\n",
        "\n",
        "\n"
      ],
      "metadata": {
        "id": "orKMd6R5NjZ3"
      }
    },
    {
      "cell_type": "markdown",
      "source": [
        "#### Obectives\n",
        ">- Describe the deployment and feedback phases of the data science methodology.\n",
        "Determine when a model is ready to deploy.\n",
        ">- Devise a plan to elicit feedback from stakeholders involved in the data analysis process.\n",
        ">- Examine how feedback helps to refine a model.\n",
        ">- Assess the performance and impact of a data model.\n",
        ">- Explain why deployment and feedback should be an iterative process.\n",
        ">- Devise a business problem to be solved with data related to either email, hospitals, or credit cards.\n",
        ">- Demonstrate your understanding of data science methodology by applying it to a given problem. Construct responses that address each phase of the CRISP-DM based on a chosen business problem.\n",
        ">- Evaluate your peers’ final projects using the given rubric. Provide constructive feedback and offer ideas and suggestions that fellow learners can apply right away."
      ],
      "metadata": {
        "id": "y0xM1PtZSpWy"
      }
    },
    {
      "cell_type": "markdown",
      "source": [
        "## Certification\n",
        "---\n",
        "\n",
        "\n",
        "\n",
        "\n",
        "\n",
        "\n",
        "\n"
      ],
      "metadata": {
        "id": "s4b754h8WNwe"
      }
    },
    {
      "cell_type": "markdown",
      "source": [
        "click on the elements To variefy it\n",
        ">\n",
        "><p align=\"middle\">\n",
        "<a  href=\"https://www.coursera.org/account/accomplishments/verify/XHEZJGFZHCL7\"><img src=\"https://live.staticflickr.com/65535/53217484853_e51844bf8c_b.jpg\" height=\"225\"/></a><a href= \"https://www.credly.com/badges/9c5b04c1-0190-4b1f-9207-67d5df132c05/public_url\"><img src=\"https://live.staticflickr.com/65535/53217175786_12f53ef8b7_m.jpg\"  height=\"225\"></a>\n",
        "    </p>\n",
        "\n",
        "   \n"
      ],
      "metadata": {
        "id": "lv2iw9aVFQRn"
      }
    }
  ]
}